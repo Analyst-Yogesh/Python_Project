{
 "cells": [
  {
   "cell_type": "code",
   "execution_count": 1,
   "id": "c2405612-798b-4ef5-a87c-514d56ec0330",
   "metadata": {},
   "outputs": [],
   "source": [
    "import numpy as np\n",
    "import pandas as pd"
   ]
  },
  {
   "cell_type": "code",
   "execution_count": 3,
   "id": "8c5997df-e553-4cb1-8b80-710c63cf547c",
   "metadata": {},
   "outputs": [
    {
     "data": {
      "text/plain": [
       "datetime.datetime(2025, 3, 1, 9, 25, 40, 73105)"
      ]
     },
     "execution_count": 3,
     "metadata": {},
     "output_type": "execute_result"
    }
   ],
   "source": [
    "import datetime as dt\n",
    "dt.datetime.now()"
   ]
  },
  {
   "cell_type": "code",
   "execution_count": 4,
   "id": "1616562b-4d35-4b91-a6ea-f01b6af82af2",
   "metadata": {},
   "outputs": [
    {
     "data": {
      "text/plain": [
       "'3.12.4 (tags/v3.12.4:8e8a4ba, Jun  6 2024, 19:30:16) [MSC v.1940 64 bit (AMD64)]'"
      ]
     },
     "execution_count": 4,
     "metadata": {},
     "output_type": "execute_result"
    }
   ],
   "source": [
    "import sys\n",
    "sys.version"
   ]
  },
  {
   "cell_type": "markdown",
   "id": "3f0afcb9-9c71-42be-a7c9-012fa7d04f7f",
   "metadata": {},
   "source": [
    "## IDENTIFIER\n",
    "    -Names of Variables,Keywords,classes, functions, modules ect.\n",
    "    -Variables- storing a value"
   ]
  },
  {
   "cell_type": "markdown",
   "id": "7930908b-d9fd-48f0-8a2c-5d6ebb0f2861",
   "metadata": {},
   "source": [
    "## Rules\n",
    "    - Can start with capital or samll letters(Case sensitive)\n",
    "    - can not have special symobls excepet _(Underscore)\n",
    "    - can not have digits in starting of variable / can have digits in or after first letter"
   ]
  },
  {
   "cell_type": "code",
   "execution_count": 7,
   "id": "d7ce0f8a-9f28-420a-98ec-f14329cbd33a",
   "metadata": {},
   "outputs": [
    {
     "name": "stdout",
     "output_type": "stream",
     "text": [
      "Yogesh 23 23.0\n"
     ]
    }
   ],
   "source": [
    "name= \"Yogesh\"\n",
    "a=23\n",
    "b=23.0\n",
    "print(name,a,b)"
   ]
  },
  {
   "cell_type": "code",
   "execution_count": 8,
   "id": "52cc18c5-bce4-464c-970d-1d1841a654a1",
   "metadata": {},
   "outputs": [
    {
     "name": "stdout",
     "output_type": "stream",
     "text": [
      "<class 'int'>\n",
      "<class 'float'>\n",
      "<class 'str'>\n"
     ]
    }
   ],
   "source": [
    "print(type(a))# type() to check data type\n",
    "print(type(b))\n",
    "print(type(name))"
   ]
  },
  {
   "cell_type": "code",
   "execution_count": 9,
   "id": "f598ae4f-3d07-4f3b-960c-d64eb903d049",
   "metadata": {},
   "outputs": [
    {
     "name": "stdout",
     "output_type": "stream",
     "text": [
      "140727623023736\n",
      "2443700068048\n",
      "2443701038432\n"
     ]
    }
   ],
   "source": [
    "print(id(a))# memory location of value\n",
    "print(id(b))\n",
    "print(id(name))"
   ]
  },
  {
   "cell_type": "code",
   "execution_count": 18,
   "id": "65794465-fe46-4b6f-b1bf-6a04116c88ca",
   "metadata": {},
   "outputs": [
    {
     "name": "stdout",
     "output_type": "stream",
     "text": [
      "['False', 'None', 'True', 'and', 'as', 'assert', 'async', 'await', 'break', 'class', 'continue', 'def', 'del', 'elif', 'else', 'except', 'finally', 'for', 'from', 'global', 'if', 'import', 'in', 'is', 'lambda', 'nonlocal', 'not', 'or', 'pass', 'raise', 'return', 'try', 'while', 'with', 'yield']\n"
     ]
    }
   ],
   "source": [
    "import keyword as kw # reserve keyword\n",
    "print(kw.kwlist)"
   ]
  },
  {
   "cell_type": "code",
   "execution_count": 20,
   "id": "96cd949a-bd9e-46eb-ab3e-16a0a6454616",
   "metadata": {},
   "outputs": [
    {
     "data": {
      "text/plain": [
       "35"
      ]
     },
     "execution_count": 20,
     "metadata": {},
     "output_type": "execute_result"
    }
   ],
   "source": [
    "len(kw.kwlist)"
   ]
  },
  {
   "cell_type": "code",
   "execution_count": 1,
   "id": "0f54f9de-3236-44fb-8a6a-0dddc54c2f46",
   "metadata": {},
   "outputs": [],
   "source": [
    "a=b=c=100"
   ]
  },
  {
   "cell_type": "code",
   "execution_count": 2,
   "id": "c27e96ab-5e7f-46ec-8239-93e91f4127c3",
   "metadata": {},
   "outputs": [
    {
     "name": "stdout",
     "output_type": "stream",
     "text": [
      "140728005428760\n",
      "140728005428760\n",
      "140728005428760\n"
     ]
    }
   ],
   "source": [
    "print(id(a))\n",
    "print(id(b))\n",
    "print(id(c))"
   ]
  },
  {
   "cell_type": "code",
   "execution_count": 26,
   "id": "9d90b9fa-8b1c-4b6e-a0f6-f4a83f9a402f",
   "metadata": {},
   "outputs": [
    {
     "name": "stdout",
     "output_type": "stream",
     "text": [
      "140727623026200\n",
      "140727623026200\n",
      "2443700068272\n"
     ]
    }
   ],
   "source": [
    "a=100\n",
    "b=99+1\n",
    "c=100.0\n",
    "print(id(a))\n",
    "print(id(b))\n",
    "print(id(c))"
   ]
  },
  {
   "cell_type": "code",
   "execution_count": null,
   "id": "07672cc1-014c-4719-9e36-b5af3a6424a3",
   "metadata": {},
   "outputs": [],
   "source": []
  }
 ],
 "metadata": {
  "kernelspec": {
   "display_name": "Python 3 (ipykernel)",
   "language": "python",
   "name": "python3"
  },
  "language_info": {
   "codemirror_mode": {
    "name": "ipython",
    "version": 3
   },
   "file_extension": ".py",
   "mimetype": "text/x-python",
   "name": "python",
   "nbconvert_exporter": "python",
   "pygments_lexer": "ipython3",
   "version": "3.13.2"
  }
 },
 "nbformat": 4,
 "nbformat_minor": 5
}
