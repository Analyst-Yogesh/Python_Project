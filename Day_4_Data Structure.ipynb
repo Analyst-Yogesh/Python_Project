{
 "cells": [
  {
   "cell_type": "markdown",
   "id": "d3e25bca-c6df-409b-8bfe-593661358722",
   "metadata": {},
   "source": [
    "### Data Structures : List, Tuple, Dict, Sets"
   ]
  },
  {
   "cell_type": "markdown",
   "id": "3cb80797-faf0-470b-bb64-aa748755a086",
   "metadata": {},
   "source": [
    "## List\n",
    "    -Ordered\n",
    "    -Mixed\n",
    "    -Allow duplicate values\n",
    "    -Mutable(changeable)"
   ]
  },
  {
   "cell_type": "code",
   "execution_count": null,
   "id": "54e4a323-185a-49a9-b315-72b28f0590ce",
   "metadata": {},
   "outputs": [],
   "source": []
  }
 ],
 "metadata": {
  "kernelspec": {
   "display_name": "Python 3 (ipykernel)",
   "language": "python",
   "name": "python3"
  },
  "language_info": {
   "codemirror_mode": {
    "name": "ipython",
    "version": 3
   },
   "file_extension": ".py",
   "mimetype": "text/x-python",
   "name": "python",
   "nbconvert_exporter": "python",
   "pygments_lexer": "ipython3",
   "version": "3.13.2"
  }
 },
 "nbformat": 4,
 "nbformat_minor": 5
}
