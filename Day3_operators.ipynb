{
 "cells": [
  {
   "cell_type": "code",
   "execution_count": 9,
   "id": "ccea921c-a0be-4f4a-aa30-433d14fcf595",
   "metadata": {},
   "outputs": [],
   "source": [
    "x=20\n",
    "y=20"
   ]
  },
  {
   "cell_type": "code",
   "execution_count": 13,
   "id": "fe39e870-69c9-4f91-9e44-02fd18084979",
   "metadata": {},
   "outputs": [
    {
     "name": "stdout",
     "output_type": "stream",
     "text": [
      "True\n"
     ]
    }
   ],
   "source": [
    "print(x==y)"
   ]
  },
  {
   "cell_type": "code",
   "execution_count": 3,
   "id": "64e29dce-4327-42af-9a93-4a50c9654e25",
   "metadata": {},
   "outputs": [],
   "source": [
    "purchase_value=[3000,567.56,345,8976,100.45,234]\n",
    "average_purchase_value=sum(purchase_value)/len(purchase_value)"
   ]
  },
  {
   "cell_type": "code",
   "execution_count": 4,
   "id": "eb20ea9b-3f28-479f-8006-299a789e6aec",
   "metadata": {},
   "outputs": [
    {
     "data": {
      "text/plain": [
       "2203.835"
      ]
     },
     "execution_count": 4,
     "metadata": {},
     "output_type": "execute_result"
    }
   ],
   "source": [
    "average_purchase_value"
   ]
  },
  {
   "cell_type": "markdown",
   "id": "f7d7733f-f63c-40a9-af0a-6431bdb1980d",
   "metadata": {},
   "source": [
    "### Assignment operator\n",
    "+=,-=,*=,//=,%=,==\n"
   ]
  },
  {
   "cell_type": "markdown",
   "id": "8b788a01-7735-4c5f-aaab-78f1f8c22ca3",
   "metadata": {},
   "source": [
    "### Logical operator"
   ]
  },
  {
   "cell_type": "code",
   "execution_count": 12,
   "id": "b641800f-43b7-499f-9331-20e21adb705d",
   "metadata": {},
   "outputs": [
    {
     "name": "stdout",
     "output_type": "stream",
     "text": [
      "Reorder needed!\n"
     ]
    }
   ],
   "source": [
    "def check_reorder(stock, reorder_level, high_demand):\n",
    "    return stock < reorder_level and  high_demand  # Reorder if stock is low or demand is high\n",
    "\n",
    "# Example usage\n",
    "stock = 50\n",
    "reorder_level = 100\n",
    "high_demand = True\n",
    "\n",
    "if check_reorder(stock, reorder_level, high_demand):\n",
    "    print(\"Reorder needed!\")\n",
    "else:\n",
    "    print(\"No reorder required.\")\n"
   ]
  },
  {
   "cell_type": "markdown",
   "id": "ad49b4ca-392a-4d8e-97c0-7828963aeeca",
   "metadata": {},
   "source": [
    "### Supplier Selection Based on Performance\n",
    "📌 Choose a supplier based on quality rating and on-time delivery performance."
   ]
  },
  {
   "cell_type": "code",
   "execution_count": 16,
   "id": "ebd6c0ae-1c18-491e-9456-2c820c65c8f2",
   "metadata": {},
   "outputs": [
    {
     "name": "stdout",
     "output_type": "stream",
     "text": [
      "Supplier selection : False\n",
      "Supplier selection : True\n"
     ]
    }
   ],
   "source": [
    "def supplier_selection(quality_rating,delivery_performance):\n",
    "    return quality_rating>=4 and delivery_performance>90\n",
    "    \n",
    "supplier_1=supplier_selection(3,87)\n",
    "supplier_2=supplier_selection(4.5,94)\n",
    "print(\"Supplier selection :\",supplier_1)\n",
    "print(\"Supplier selection :\",supplier_2)\n"
   ]
  },
  {
   "cell_type": "markdown",
   "id": "38fe6550-87d4-498c-acbb-82b0079b0d9a",
   "metadata": {},
   "source": [
    "## Special operators\n",
    "    -Membership operators  (in or not in), (is or is not)\n",
    "    -Identity operators    "
   ]
  },
  {
   "cell_type": "markdown",
   "id": "15bf0236-a610-46bf-8493-9774485777a6",
   "metadata": {},
   "source": [
    "## Bitwise operators"
   ]
  },
  {
   "cell_type": "code",
   "execution_count": 5,
   "id": "142a757b-d520-40c6-b203-a1ad4e2e1380",
   "metadata": {},
   "outputs": [
    {
     "name": "stdout",
     "output_type": "stream",
     "text": [
      "0\n",
      "30\n"
     ]
    }
   ],
   "source": [
    "x=10\n",
    "y=20\n",
    "print(x & y) # And\n",
    "print(x | y)# Or"
   ]
  },
  {
   "cell_type": "markdown",
   "id": "3558fff8-09dd-4fd6-974d-8e67cf7a2cfd",
   "metadata": {},
   "source": [
    "Conditioal Operator - ternary operator\n"
   ]
  },
  {
   "cell_type": "code",
   "execution_count": 7,
   "id": "156d4bf6-b4b6-4fe7-8af9-48513186b0ae",
   "metadata": {},
   "outputs": [
    {
     "name": "stdout",
     "output_type": "stream",
     "text": [
      "Adult\n"
     ]
    }
   ],
   "source": [
    "age =20\n",
    "result = \"Adult\" if age >17 else \"Minor\"\n",
    "print(result)"
   ]
  },
  {
   "cell_type": "code",
   "execution_count": null,
   "id": "7251b706-cb67-4fd6-a1a2-f441f2c02ab2",
   "metadata": {},
   "outputs": [],
   "source": [
    "for i in range(5):\n",
    "    number=float(input(\"Enter the number: \"))\n",
    "    results= \"Even\" if number%2==0 else \"Odd\"\n",
    "    print(results)"
   ]
  },
  {
   "cell_type": "markdown",
   "id": "1e93e7fb-8aff-49af-9692-713dc91a4453",
   "metadata": {},
   "source": [
    "### Scenario: Calculate discounts and total sales for customers."
   ]
  },
  {
   "cell_type": "code",
   "execution_count": 20,
   "id": "337492ec-0ce1-4d9e-8512-0a2f319f1edf",
   "metadata": {},
   "outputs": [
    {
     "name": "stdout",
     "output_type": "stream",
     "text": [
      "Discounted price : 450.0\n",
      "Total amount for 4 item : 1800.0\n"
     ]
    }
   ],
   "source": [
    "# Customer purchase details\n",
    "product_price=500\n",
    "discount=10   # in percentage\n",
    "quantity=4\n",
    "# Discounted price\n",
    "discounted_price=product_price-(product_price*discount/100)\n",
    "total_amount=discounted_price*quantity\n",
    "print(f\"Discounted price : {discounted_price}\")\n",
    "print(f\"Total amount for {quantity} item : {total_amount}\")"
   ]
  },
  {
   "cell_type": "markdown",
   "id": "a04cc051-913d-4ed9-b74d-d0d847ba9f4c",
   "metadata": {},
   "source": [
    "### Scenario: Compare customer ratings to filter high-value customers."
   ]
  },
  {
   "cell_type": "code",
   "execution_count": 27,
   "id": "a06880e6-c1d8-4979-a614-b3e485ae7d2a",
   "metadata": {},
   "outputs": [
    {
     "name": "stdout",
     "output_type": "stream",
     "text": [
      "This is a regular customer.\n"
     ]
    }
   ],
   "source": [
    "customer_ratings=4.4  # out of 5\n",
    "vip_threshold=4.7\n",
    "result=\"This is a VIP customer!😂❤️\" if customer_ratings>=vip_threshold else \"This is a regular customer.\"\n",
    "print(result)"
   ]
  },
  {
   "cell_type": "markdown",
   "id": "f1ca64a1-c8d2-4bcb-b048-c0c4da3c1a6d",
   "metadata": {},
   "source": [
    "### Scenario: Check if a customer is eligible for a premium membership."
   ]
  },
  {
   "cell_type": "code",
   "execution_count": 41,
   "id": "72b10c4c-8e7c-4b9d-b31f-45fb5bcbf171",
   "metadata": {},
   "outputs": [
    {
     "name": "stdout",
     "output_type": "stream",
     "text": [
      "Customer is not eligible for premium membership\n"
     ]
    }
   ],
   "source": [
    "total_purchases = 10\n",
    "average_spending = 801  # in dollars\n",
    "\n",
    "# A customer qualifies for premium if they made more than 10 purchases AND spend on average > $800\n",
    "if(total_purchases >10 and average_spending>800):\n",
    "    print(\"Customer is eligible for premium membership\")\n",
    "else:\n",
    "    print(\"Customer is not eligible for premium membership\")\n"
   ]
  },
  {
   "cell_type": "markdown",
   "id": "84172442-b20f-4065-811e-4c550923d4b7",
   "metadata": {},
   "source": [
    "### Scenario: Check if two customers are the same in the CRM system.\n",
    "    - Identity Operators (is, is not)"
   ]
  },
  {
   "cell_type": "code",
   "execution_count": 59,
   "id": "b407429c-b1bb-4019-a018-bf9eda00f223",
   "metadata": {},
   "outputs": [
    {
     "name": "stdout",
     "output_type": "stream",
     "text": [
      "False\n",
      "True\n",
      "Memory location of customer1: 2219194702464\n",
      "Memory location of customer2: 2219194716928\n",
      "True\n",
      "False\n",
      "True\n",
      "Memory location of List1: 2219194688256\n",
      "Memory location of List2: 2219194679808\n",
      "Memory location of List3: 2219194688256\n"
     ]
    }
   ],
   "source": [
    "# is: This operator checks for object identity. It evaluates to True only if two variables point to the exact same object in memory.\n",
    "# ==: This operator checks for object equality. It evaluates to True if the values of the two objects being compared are the same.\n",
    "\n",
    "customer1 = {\"id\": 101, \"name\": \"Alice\"}\n",
    "customer2 = {\"id\": 101, \"name\": \"Alice\"}\n",
    "# Even though values are the same, different objects exist in memory\n",
    "print(customer1 is customer2)  # False, because they are different objects\n",
    "print(customer1 == customer2)  # True, because they have the same data\n",
    "\n",
    "print(f\"Memory location of customer1: {id(customer1)}\")\n",
    "print(f\"Memory location of customer2: {id(customer2)}\")\n",
    "\n",
    "list1 = [1, 2, 3]\n",
    "list2 = [1, 2, 3]\n",
    "list3 = list1\n",
    "\n",
    "print(list1 == list2)  # Output: True (same values)\n",
    "print(list1 is list2)  # Output: False (different objects)\n",
    "print(list1 is list3)  # Output: True (same object)\n",
    "\n",
    "print(f\"Memory location of List1: {id(list1)}\")\n",
    "print(f\"Memory location of List2: {id(list2)}\")\n",
    "print(f\"Memory location of List3: {id(list3)}\")"
   ]
  },
  {
   "cell_type": "markdown",
   "id": "ecad8532-4ed6-4f90-812d-7d950c1dad40",
   "metadata": {},
   "source": [
    "### Membership Operators (in, not in)\n",
    "Scenario: Check if an email exists in the CRM database."
   ]
  },
  {
   "cell_type": "code",
   "execution_count": 75,
   "id": "89e44ee6-6d9a-4b38-b13a-e0840458f922",
   "metadata": {},
   "outputs": [
    {
     "name": "stdout",
     "output_type": "stream",
     "text": [
      "Email exists in the CRM system.\n",
      "['alice@example.com', 'bob@example.com', 'charlie@example.com']\n"
     ]
    }
   ],
   "source": [
    "crm_emails = [\"alice@example.com\", \"bob@example.com\", \"charlie@example.com\"]\n",
    "new_customer_email = \"charlie@example.com\"\n",
    "\n",
    "if new_customer_email in crm_emails:\n",
    "    print(\"Email exists in the CRM system.\")\n",
    "   \n",
    "else:\n",
    "    print(\"New customer, add to CRM.\")\n",
    "\n",
    "print(crm_emails)\n"
   ]
  },
  {
   "cell_type": "code",
   "execution_count": null,
   "id": "6c90acc8-adf0-435b-a14f-fe12e4de712d",
   "metadata": {},
   "outputs": [],
   "source": []
  },
  {
   "cell_type": "code",
   "execution_count": null,
   "id": "fc01419a-0d0b-45d3-9e80-0347d9a2577a",
   "metadata": {},
   "outputs": [],
   "source": []
  }
 ],
 "metadata": {
  "kernelspec": {
   "display_name": "Python 3 (ipykernel)",
   "language": "python",
   "name": "python3"
  },
  "language_info": {
   "codemirror_mode": {
    "name": "ipython",
    "version": 3
   },
   "file_extension": ".py",
   "mimetype": "text/x-python",
   "name": "python",
   "nbconvert_exporter": "python",
   "pygments_lexer": "ipython3",
   "version": "3.13.2"
  }
 },
 "nbformat": 4,
 "nbformat_minor": 5
}
